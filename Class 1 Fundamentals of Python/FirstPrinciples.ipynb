{
 "cells": [
  {
   "attachments": {},
   "cell_type": "markdown",
   "metadata": {},
   "source": [
    "# Getting started \n",
    "I will assume that since this is open you at the very least have anaconda installed... and from this you will have some packages called numpy, matplotlib, and scipy, installed \n",
    "Now when you run any of the code lines bellow you will need to select a python enviroment to run it in the command"
   ]
  },
  {
   "attachments": {},
   "cell_type": "markdown",
   "metadata": {},
   "source": [
    "## Using a package\n",
    "Even though these packages are installed they won't be inside your enviorment (the memory used for executing code)\n",
    "To bring them into your enviroment you will need to import them\n",
    "Lets start off by importing two of the most important packages and exploring what they can do for us."
   ]
  },
  {
   "cell_type": "code",
   "execution_count": 1,
   "metadata": {},
   "outputs": [],
   "source": [
    "import numpy as np \n",
    "import matplotlib.pyplot as plt "
   ]
  },
  {
   "attachments": {},
   "cell_type": "markdown",
   "metadata": {},
   "source": [
    "The as command just gives the package an alias thats quicker to type. \n",
    "## Numpy \n",
    "or numerical python is a package that handles matrices and numerical calculations in python\n",
    "## matplotlib \n",
    "is a package that allows you to plot figures and is   "
   ]
  },
  {
   "cell_type": "code",
   "execution_count": null,
   "metadata": {},
   "outputs": [],
   "source": []
  }
 ],
 "metadata": {
  "kernelspec": {
   "display_name": "base",
   "language": "python",
   "name": "python3"
  },
  "language_info": {
   "codemirror_mode": {
    "name": "ipython",
    "version": 3
   },
   "file_extension": ".py",
   "mimetype": "text/x-python",
   "name": "python",
   "nbconvert_exporter": "python",
   "pygments_lexer": "ipython3",
   "version": "3.9.16"
  },
  "orig_nbformat": 4
 },
 "nbformat": 4,
 "nbformat_minor": 2
}
